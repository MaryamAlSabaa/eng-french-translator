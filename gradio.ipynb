{
 "cells": [
  {
   "cell_type": "code",
   "execution_count": 10,
   "metadata": {},
   "outputs": [
    {
     "name": "stderr",
     "output_type": "stream",
     "text": [
      "WARNING:absl:Compiled the loaded model, but the compiled metrics have yet to be built. `model.compile_metrics` will be empty until you train or evaluate the model.\n"
     ]
    }
   ],
   "source": [
    "import gradio as gr\n",
    "from tensorflow.keras.models import load_model\n",
    "from tensorflow.keras.preprocessing.text import Tokenizer\n",
    "from tensorflow.keras.preprocessing.sequence import pad_sequences\n",
    "import string\n",
    "import numpy as np\n",
    "import pickle\n",
    "\n",
    "\n",
    "# Load model and tokenizers\n",
    "model = load_model('model2.h5')\n",
    "\n",
    "with open('eng_tokenizer.pkl', 'rb') as f:\n",
    "    eng_tokenizer = pickle.load(f)\n",
    "with open('fr_tokenizer.pkl', 'rb') as f:\n",
    "    fr_tokenizer = pickle.load(f)\n",
    "\n",
    "\n",
    "en_max = 15\n",
    "fr_max = 21\n",
    "\n",
    "\n",
    "def clean_sentence(sentence):\n",
    "    if isinstance(sentence, list):\n",
    "        sentence = ' '.join(sentence)\n",
    "    translator = str.maketrans('', '', string.punctuation)\n",
    "    return sentence.translate(translator).lower()\n",
    "\n",
    "def translate_sentence(model, sentence):\n",
    "        y_id_to_word = {value: key for key, value in fr_tokenizer.word_index.items()} #model will give numbers of french words indicies, so change from incdicies to words\n",
    "        y_id_to_word[0] = \"<PAD>\" #means not part of vocab\n",
    "\n",
    "        sentence =eng_tokenizer.texts_to_sequences([sentence]) #encode\n",
    "\n",
    "        sentence = pad_sequences(sentence, maxlen=en_max, padding=\"post\") #pad\n",
    "        predictions = model.predict(sentence) #predict\n",
    "\n",
    "        translated_sentence = \" \".join([y_id_to_word[np.argmax(x)] for x in predictions[0]]) #taking the max propability using argmax\n",
    "        return translated_sentence\n",
    "\n",
    "def gradio_interface(input_text):\n",
    "    \"\"\"Function to be called by Gradio interface.\"\"\"\n",
    "    # Check the tokenized input and verify index range\n",
    "    tokenized_input = eng_tokenizer .texts_to_sequences([input_text])\n",
    "    print(f\"Tokenized input: {tokenized_input}\")\n",
    "\n",
    "    # Ensure all indices are within the valid range of the vocabulary\n",
    "    max_vocab_index = en_max + 1  # For example, if the tokenizer uses 1-based indexing\n",
    "    invalid_indices = [index for index in tokenized_input[0] if index >= max_vocab_index]\n",
    "    if invalid_indices:\n",
    "        print(f\"Invalid indices found: {invalid_indices}\")\n",
    "\n",
    "    if not input_text:\n",
    "        return \"No input provided\"\n",
    "    translation = translate_sentence(model, input_text)\n",
    "    return translation\n"
   ]
  },
  {
   "cell_type": "code",
   "execution_count": null,
   "metadata": {},
   "outputs": [
    {
     "name": "stdout",
     "output_type": "stream",
     "text": [
      "* Running on local URL:  http://127.0.0.1:7860\n",
      "\n",
      "To create a public link, set `share=True` in `launch()`.\n"
     ]
    },
    {
     "data": {
      "text/html": [
       "<div><iframe src=\"http://127.0.0.1:7860/\" width=\"100%\" height=\"500\" allow=\"autoplay; camera; microphone; clipboard-read; clipboard-write;\" frameborder=\"0\" allowfullscreen></iframe></div>"
      ],
      "text/plain": [
       "<IPython.core.display.HTML object>"
      ]
     },
     "metadata": {},
     "output_type": "display_data"
    },
    {
     "name": "stdout",
     "output_type": "stream",
     "text": [
      "Tokenized input: [[]]\n",
      "Tokenized input: [[]]\n"
     ]
    },
    {
     "name": "stderr",
     "output_type": "stream",
     "text": [
      "Traceback (most recent call last):\n",
      "  File \"d:\\OneDrive - ku.ac.ae\\Desktop\\ZAKA\\translator\\flask_zaka_env\\Lib\\site-packages\\gradio\\queueing.py\", line 625, in process_events\n",
      "    response = await route_utils.call_process_api(\n",
      "               ^^^^^^^^^^^^^^^^^^^^^^^^^^^^^^^^^^^\n",
      "  File \"d:\\OneDrive - ku.ac.ae\\Desktop\\ZAKA\\translator\\flask_zaka_env\\Lib\\site-packages\\gradio\\route_utils.py\", line 322, in call_process_api\n",
      "    output = await app.get_blocks().process_api(\n",
      "             ^^^^^^^^^^^^^^^^^^^^^^^^^^^^^^^^^^^\n",
      "  File \"d:\\OneDrive - ku.ac.ae\\Desktop\\ZAKA\\translator\\flask_zaka_env\\Lib\\site-packages\\gradio\\blocks.py\", line 2047, in process_api\n",
      "    result = await self.call_function(\n",
      "             ^^^^^^^^^^^^^^^^^^^^^^^^^\n",
      "  File \"d:\\OneDrive - ku.ac.ae\\Desktop\\ZAKA\\translator\\flask_zaka_env\\Lib\\site-packages\\gradio\\blocks.py\", line 1594, in call_function\n",
      "    prediction = await anyio.to_thread.run_sync(  # type: ignore\n",
      "                 ^^^^^^^^^^^^^^^^^^^^^^^^^^^^^^^^^^^^^^^^^^^^^^^\n",
      "  File \"d:\\OneDrive - ku.ac.ae\\Desktop\\ZAKA\\translator\\flask_zaka_env\\Lib\\site-packages\\anyio\\to_thread.py\", line 56, in run_sync\n",
      "    return await get_async_backend().run_sync_in_worker_thread(\n",
      "           ^^^^^^^^^^^^^^^^^^^^^^^^^^^^^^^^^^^^^^^^^^^^^^^^^^^^\n",
      "  File \"d:\\OneDrive - ku.ac.ae\\Desktop\\ZAKA\\translator\\flask_zaka_env\\Lib\\site-packages\\anyio\\_backends\\_asyncio.py\", line 2461, in run_sync_in_worker_thread\n",
      "    return await future\n",
      "           ^^^^^^^^^^^^\n",
      "  File \"d:\\OneDrive - ku.ac.ae\\Desktop\\ZAKA\\translator\\flask_zaka_env\\Lib\\site-packages\\anyio\\_backends\\_asyncio.py\", line 962, in run\n",
      "    result = context.run(func, *args)\n",
      "             ^^^^^^^^^^^^^^^^^^^^^^^^\n",
      "  File \"d:\\OneDrive - ku.ac.ae\\Desktop\\ZAKA\\translator\\flask_zaka_env\\Lib\\site-packages\\gradio\\utils.py\", line 869, in wrapper\n",
      "    response = f(*args, **kwargs)\n",
      "               ^^^^^^^^^^^^^^^^^^\n",
      "  File \"C:\\Users\\LENOVO\\AppData\\Local\\Temp\\ipykernel_8260\\1359481374.py\", line 55, in gradio_interface\n",
      "    translation = translate_sentence(model, input_text)\n",
      "                  ^^^^^^^^^^^^^^^^^^^^^^^^^^^^^^^^^^^^^\n",
      "  File \"C:\\Users\\LENOVO\\AppData\\Local\\Temp\\ipykernel_8260\\1359481374.py\", line 35, in translate_sentence\n",
      "    sentence = pad_sequences(sentence, maxlen=en_max, padding=\"post\") #pad\n",
      "               ^^^^^^^^^^^^^\n",
      "NameError: name 'pad_sequences' is not defined\n"
     ]
    },
    {
     "name": "stdout",
     "output_type": "stream",
     "text": [
      "Tokenized input: [[]]\n"
     ]
    },
    {
     "name": "stderr",
     "output_type": "stream",
     "text": [
      "Traceback (most recent call last):\n",
      "  File \"d:\\OneDrive - ku.ac.ae\\Desktop\\ZAKA\\translator\\flask_zaka_env\\Lib\\site-packages\\gradio\\queueing.py\", line 625, in process_events\n",
      "    response = await route_utils.call_process_api(\n",
      "               ^^^^^^^^^^^^^^^^^^^^^^^^^^^^^^^^^^^\n",
      "  File \"d:\\OneDrive - ku.ac.ae\\Desktop\\ZAKA\\translator\\flask_zaka_env\\Lib\\site-packages\\gradio\\route_utils.py\", line 322, in call_process_api\n",
      "    output = await app.get_blocks().process_api(\n",
      "             ^^^^^^^^^^^^^^^^^^^^^^^^^^^^^^^^^^^\n",
      "  File \"d:\\OneDrive - ku.ac.ae\\Desktop\\ZAKA\\translator\\flask_zaka_env\\Lib\\site-packages\\gradio\\blocks.py\", line 2047, in process_api\n",
      "    result = await self.call_function(\n",
      "             ^^^^^^^^^^^^^^^^^^^^^^^^^\n",
      "  File \"d:\\OneDrive - ku.ac.ae\\Desktop\\ZAKA\\translator\\flask_zaka_env\\Lib\\site-packages\\gradio\\blocks.py\", line 1594, in call_function\n",
      "    prediction = await anyio.to_thread.run_sync(  # type: ignore\n",
      "                 ^^^^^^^^^^^^^^^^^^^^^^^^^^^^^^^^^^^^^^^^^^^^^^^\n",
      "  File \"d:\\OneDrive - ku.ac.ae\\Desktop\\ZAKA\\translator\\flask_zaka_env\\Lib\\site-packages\\anyio\\to_thread.py\", line 56, in run_sync\n",
      "    return await get_async_backend().run_sync_in_worker_thread(\n",
      "           ^^^^^^^^^^^^^^^^^^^^^^^^^^^^^^^^^^^^^^^^^^^^^^^^^^^^\n",
      "  File \"d:\\OneDrive - ku.ac.ae\\Desktop\\ZAKA\\translator\\flask_zaka_env\\Lib\\site-packages\\anyio\\_backends\\_asyncio.py\", line 2461, in run_sync_in_worker_thread\n",
      "    return await future\n",
      "           ^^^^^^^^^^^^\n",
      "  File \"d:\\OneDrive - ku.ac.ae\\Desktop\\ZAKA\\translator\\flask_zaka_env\\Lib\\site-packages\\anyio\\_backends\\_asyncio.py\", line 962, in run\n",
      "    result = context.run(func, *args)\n",
      "             ^^^^^^^^^^^^^^^^^^^^^^^^\n",
      "  File \"d:\\OneDrive - ku.ac.ae\\Desktop\\ZAKA\\translator\\flask_zaka_env\\Lib\\site-packages\\gradio\\utils.py\", line 869, in wrapper\n",
      "    response = f(*args, **kwargs)\n",
      "               ^^^^^^^^^^^^^^^^^^\n",
      "  File \"C:\\Users\\LENOVO\\AppData\\Local\\Temp\\ipykernel_8260\\1359481374.py\", line 55, in gradio_interface\n",
      "    translation = translate_sentence(model, input_text)\n",
      "                  ^^^^^^^^^^^^^^^^^^^^^^^^^^^^^^^^^^^^^\n",
      "  File \"C:\\Users\\LENOVO\\AppData\\Local\\Temp\\ipykernel_8260\\1359481374.py\", line 35, in translate_sentence\n",
      "    sentence = pad_sequences(sentence, maxlen=en_max, padding=\"post\") #pad\n",
      "               ^^^^^^^^^^^^^\n",
      "NameError: name 'pad_sequences' is not defined\n"
     ]
    }
   ],
   "source": [
    "\n",
    "\n",
    "# Set up Gradio interface\n",
    "iface = gr.Interface(\n",
    "    fn=gradio_interface,  # Function to call\n",
    "    inputs=gr.Textbox(label=\"Enter text to translate\"),  # Input text box\n",
    "    outputs=gr.Textbox(label=\"Translated text\"),  # Output text box\n",
    "    title=\"Seq2Seq Translation\",  # Title for the app\n",
    "    description=\"Enter English text to translate it to French using a seq2seq model.\",  # Description\n",
    ")\n",
    "\n",
    "# Launch the Gradio interface\n",
    "iface.launch(debug=True)\n"
   ]
  },
  {
   "cell_type": "code",
   "execution_count": null,
   "metadata": {},
   "outputs": [],
   "source": []
  }
 ],
 "metadata": {
  "kernelspec": {
   "display_name": "flask_zaka_env",
   "language": "python",
   "name": "python3"
  },
  "language_info": {
   "codemirror_mode": {
    "name": "ipython",
    "version": 3
   },
   "file_extension": ".py",
   "mimetype": "text/x-python",
   "name": "python",
   "nbconvert_exporter": "python",
   "pygments_lexer": "ipython3",
   "version": "3.11.9"
  }
 },
 "nbformat": 4,
 "nbformat_minor": 2
}
